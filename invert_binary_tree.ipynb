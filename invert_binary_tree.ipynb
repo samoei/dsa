{
  "nbformat": 4,
  "nbformat_minor": 0,
  "metadata": {
    "colab": {
      "name": "invert-binary-tree.ipynb",
      "provenance": [],
      "collapsed_sections": [],
      "authorship_tag": "ABX9TyMkgBC6BeTcczcX+lV1o8oN",
      "include_colab_link": true
    },
    "kernelspec": {
      "name": "python3",
      "display_name": "Python 3"
    },
    "language_info": {
      "name": "python"
    }
  },
  "cells": [
    {
      "cell_type": "markdown",
      "metadata": {
        "id": "view-in-github",
        "colab_type": "text"
      },
      "source": [
        "<a href=\"https://colab.research.google.com/github/samoei/dsa/blob/main/invert_binary_tree.ipynb\" target=\"_parent\"><img src=\"https://colab.research.google.com/assets/colab-badge.svg\" alt=\"Open In Colab\"/></a>"
      ]
    },
    {
      "cell_type": "markdown",
      "metadata": {
        "id": "CeeoH7eqkOnc"
      },
      "source": [
        "# Invert Binary Tree"
      ]
    },
    {
      "cell_type": "markdown",
      "metadata": {
        "id": "R_jN6shvnKcV"
      },
      "source": [
        "## Problem Statement"
      ]
    },
    {
      "cell_type": "markdown",
      "metadata": {
        "id": "yZCZFJHxkm6i"
      },
      "source": [
        "> Write a function that takes in a Binary Tree and inverts it. In other words,\n",
        "  the function should swap every left node in the tree for its corresponding\n",
        "  right node. \n",
        "  Each `BinaryTree` node has an integer `value`, a\n",
        "  `left` child node, and a `right` child node. Children\n",
        "  nodes can either be <span>BinaryTree</span> nodes themselves or\n",
        "  `None` / `null`.\n",
        "\n",
        "  https://www.algoexpert.io/questions/Invert%20Binary%20Tree\n"
      ]
    },
    {
      "cell_type": "markdown",
      "metadata": {
        "id": "dZKYtBMNmCVc"
      },
      "source": [
        "## Solution"
      ]
    },
    {
      "cell_type": "markdown",
      "metadata": {
        "id": "KmDanOGU-diR"
      },
      "source": [
        "### 1. Understainding the problem by re-stating the problem in my own words. Identify the input & output formats."
      ]
    },
    {
      "cell_type": "markdown",
      "metadata": {
        "id": "D4V9rEX5mVjN"
      },
      "source": [
        "**Problem**\n",
        "\n",
        "> Swap the child nodes of a binary tree. Left child should be the new right child and vice *versa*\n",
        "\n",
        "<br/>\n",
        "\n",
        "\n",
        "**Input**\n",
        "\n",
        "1. root node of a binary tree\n",
        "**Output**\n",
        "\n",
        "1. an inverted binary tree"
      ]
    },
    {
      "cell_type": "code",
      "metadata": {
        "id": "XYqZR73am5un"
      },
      "source": [
        "def invert_bst(root):\n",
        "  pass"
      ],
      "execution_count": null,
      "outputs": []
    },
    {
      "cell_type": "markdown",
      "metadata": {
        "id": "u5OCjU7m-0My"
      },
      "source": [
        "### 2. Come up with some example inputs & outputs. Try to cover all edge cases."
      ]
    },
    {
      "cell_type": "markdown",
      "metadata": {
        "id": "SD2Z5pkRoEao"
      },
      "source": [
        "Our function should be able to handle any set of valid inputs we pass into it. Here's a list of some possible variations we might encounter:\n",
        "\n",
        "1. **tree with just the root node**\n",
        "2. **if the root left child not null but right child is null**\n",
        "3. **A skewed binary tree**"
      ]
    },
    {
      "cell_type": "markdown",
      "metadata": {
        "id": "hL0hCIEwnRX8"
      },
      "source": [
        "### 3. Come up with a correct solution for the problem. State it in plain English."
      ]
    },
    {
      "cell_type": "markdown",
      "metadata": {
        "id": "TwM12Jp0nFJs"
      },
      "source": [
        "Solution 1: Using BFS to traverse the tree and swapping the left with right child nodes\n",
        "\n",
        "1. As this is a BFS initialise the queue and add the root node\n",
        "2. While the queue is not empty pop the top element\n",
        "3. swap the child nodes of this element\n",
        "4. add the child nodes to the queue\n"
      ]
    },
    {
      "cell_type": "markdown",
      "metadata": {
        "id": "AJt6j52-niJr"
      },
      "source": [
        "### 4. Implement the solution and test it using example inputs. Fix bugs, if any.\n"
      ]
    },
    {
      "cell_type": "code",
      "metadata": {
        "id": "rb0D2xyanm6Z"
      },
      "source": [
        "def invert_binary_tree(root):\n",
        "  queue = [tree]\n",
        "\n",
        "  while len(queue) > 0:\n",
        "    current = queue.pop(0)\n",
        "    if current is None:\n",
        "      continue\n",
        "    swap_children(current)\n",
        "    queue.append(current.left)\n",
        "    queue.append(current.right)\n",
        "\n",
        "def swap_children(node):\n",
        "  node.left, node.right = node.right, node.left"
      ],
      "execution_count": null,
      "outputs": []
    },
    {
      "cell_type": "markdown",
      "metadata": {
        "id": "5KdsqOQAn5J-"
      },
      "source": [
        "### 5. Analyze the algorithm's complexity and identify inefficiencies, if any.\n"
      ]
    },
    {
      "cell_type": "markdown",
      "metadata": {
        "id": "-YK5JoVwn9pg"
      },
      "source": [
        "The above code runtime complexity is `O(n)` because we have to visit all the nodes.\n",
        "\n",
        "The space complexity is also `O(n)` because of the auxiliary space we need for the queue"
      ]
    },
    {
      "cell_type": "markdown",
      "metadata": {
        "id": "es-4qDM0oHGR"
      },
      "source": [
        "### 6. Apply the right technique to overcome the inefficiency. Repeat steps 3 to 6\n"
      ]
    },
    {
      "cell_type": "markdown",
      "metadata": {
        "id": "ZbgEynm-oXB6"
      },
      "source": [
        "We can use a recursive solution to improve on the space complexity but the runtime complexity will still remain the same"
      ]
    },
    {
      "cell_type": "markdown",
      "metadata": {
        "id": "CQCsM_VSoeGB"
      },
      "source": [
        "### 7. Come up with a correct solution for the problem. State it in plain English.\n"
      ]
    },
    {
      "cell_type": "markdown",
      "metadata": {
        "id": "duMPzz_iojS1"
      },
      "source": [
        ""
      ]
    },
    {
      "cell_type": "markdown",
      "metadata": {
        "id": "kzDI9O4xyCBr"
      },
      "source": [
        "Solution 2: Using Recursion and swapping of the left with right child nodes\n",
        "\n",
        "1. Check if we are on the base case and just return. The base case is an `None/null` node\n",
        "2. Swap the childe nodes\n",
        "3. Do a recursive call to invert the left sub tree\n",
        "4. Do a recursive call to invert the right sub tree\n"
      ]
    },
    {
      "cell_type": "markdown",
      "metadata": {
        "id": "2npOFb5qolUg"
      },
      "source": [
        "### 8. Implement the solution and test it using example inputs. Fix bugs, if any."
      ]
    },
    {
      "cell_type": "code",
      "metadata": {
        "id": "o-RLOK4CopAb"
      },
      "source": [
        "def invert_binary_tree(root):\n",
        "  if root is None:\n",
        "    return\n",
        "  swap_children(current)\n",
        "  invert_binary_tree(root.left)\n",
        "  invert_binary_tree(root.right)\n",
        "\n",
        "\n",
        "\n"
      ],
      "execution_count": null,
      "outputs": []
    },
    {
      "cell_type": "markdown",
      "metadata": {
        "id": "suYufSWMoq27"
      },
      "source": [
        "### 9. Analyze the algorithm's complexity and identify inefficiencies, if any."
      ]
    },
    {
      "cell_type": "markdown",
      "metadata": {
        "id": "ZC9PWBFyouwQ"
      },
      "source": [
        "The recursive solution run in O(n) time and a better space complexity of `O(d)` where `d` is the depth of the tree "
      ]
    }
  ]
}