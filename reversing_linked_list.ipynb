{
  "nbformat": 4,
  "nbformat_minor": 0,
  "metadata": {
    "colab": {
      "name": "reversing-linked-list.ipynb",
      "provenance": [],
      "collapsed_sections": [],
      "authorship_tag": "ABX9TyO+V2Ev25o3LIB+Ne67s2Tj",
      "include_colab_link": true
    },
    "kernelspec": {
      "name": "python3",
      "display_name": "Python 3"
    },
    "language_info": {
      "name": "python"
    }
  },
  "cells": [
    {
      "cell_type": "markdown",
      "metadata": {
        "id": "view-in-github",
        "colab_type": "text"
      },
      "source": [
        "<a href=\"https://colab.research.google.com/github/samoei/dsa/blob/main/reversing_linked_list.ipynb\" target=\"_parent\"><img src=\"https://colab.research.google.com/assets/colab-badge.svg\" alt=\"Open In Colab\"/></a>"
      ]
    },
    {
      "cell_type": "markdown",
      "metadata": {
        "id": "CeeoH7eqkOnc"
      },
      "source": [
        "# Invert Binary Tree"
      ]
    },
    {
      "cell_type": "markdown",
      "metadata": {
        "id": "R_jN6shvnKcV"
      },
      "source": [
        "## Problem Statement"
      ]
    },
    {
      "cell_type": "markdown",
      "metadata": {
        "id": "yZCZFJHxkm6i"
      },
      "source": [
        ">Write a function that takes in the head of a Singly Linked List, reverses the list in place (i.e., doesn't create a brand new list), and returns its new head.\n",
        "Each `LinkedList` node has an integer `value` as well as a `next` node pointing to the next node in the list or to `None` / `null` if it's the tail of the list. You can assume that the input Linked List will always have at least one node; in other words, the head will never be `None` / `null`.\n",
        "\n",
        "\n",
        "https://www.algoexpert.io/questions/Reverse%20Linked%20List\n"
      ]
    },
    {
      "cell_type": "markdown",
      "metadata": {
        "id": "dZKYtBMNmCVc"
      },
      "source": [
        "## Solution"
      ]
    },
    {
      "cell_type": "markdown",
      "metadata": {
        "id": "KmDanOGU-diR"
      },
      "source": [
        "### 1. Understainding the problem by re-stating the problem in my own words. Identify the input & output formats."
      ]
    },
    {
      "cell_type": "markdown",
      "metadata": {
        "id": "D4V9rEX5mVjN"
      },
      "source": [
        "**Problem**\n",
        "\n",
        "> Reverse a linklist in place Exammple given **`1->2->3->4->`** After reversing you get **`4->3->2-1->`**\n",
        "\n",
        "<br/>\n",
        "\n",
        "\n",
        "**Input**\n",
        "\n",
        "1. head of a singly linked list\n",
        "**Output**\n",
        "\n",
        "1. return new head"
      ]
    },
    {
      "cell_type": "code",
      "metadata": {
        "id": "XYqZR73am5un"
      },
      "source": [
        "def reverse_linked_list(root):\n",
        "  pass"
      ],
      "execution_count": 1,
      "outputs": []
    },
    {
      "cell_type": "markdown",
      "metadata": {
        "id": "u5OCjU7m-0My"
      },
      "source": [
        "### 2. Come up with some example inputs & outputs. Try to cover all edge cases."
      ]
    },
    {
      "cell_type": "markdown",
      "metadata": {
        "id": "SD2Z5pkRoEao"
      },
      "source": [
        "Our function should be able to handle any set of valid inputs we pass into it. Here's a list of some possible variations we might encounter:\n",
        "\n",
        "1. **Link list with just the head**"
      ]
    },
    {
      "cell_type": "markdown",
      "metadata": {
        "id": "hL0hCIEwnRX8"
      },
      "source": [
        "### 3. Come up with a correct solution for the problem. State it in plain English."
      ]
    },
    {
      "cell_type": "markdown",
      "metadata": {
        "id": "TwM12Jp0nFJs"
      },
      "source": [
        "Solution 1: Using BFS to traverse the tree and swapping the left with right child nodes\n",
        "\n",
        "1. Initialise 3 pointers, `prev`, `curr` & `next`\n",
        "2. carefully point the pointers of the elment of the `curr` to point to `prev`\n",
        "3. Update the values of `prev`, `curr` & `next` accordingly\n"
      ]
    },
    {
      "cell_type": "markdown",
      "metadata": {
        "id": "AJt6j52-niJr"
      },
      "source": [
        "### 4. Implement the solution and test it using example inputs. Fix bugs, if any.\n"
      ]
    },
    {
      "cell_type": "code",
      "metadata": {
        "id": "rb0D2xyanm6Z"
      },
      "source": [
        "def reverse_linked_list(head):\n",
        "  prev, curr = None, head\n",
        "\n",
        "  while curr is not None:\n",
        "    next = curr.next\n",
        "    curr.next = prev\n",
        "    prev = curr\n",
        "    curr = next\n",
        "  head = prev\n",
        "  return head"
      ],
      "execution_count": 2,
      "outputs": []
    },
    {
      "cell_type": "markdown",
      "metadata": {
        "id": "5KdsqOQAn5J-"
      },
      "source": [
        "### 5. Analyze the algorithm's complexity and identify inefficiencies, if any.\n"
      ]
    },
    {
      "cell_type": "markdown",
      "metadata": {
        "id": "-YK5JoVwn9pg"
      },
      "source": [
        "The above code runtime complexity of the above iteration method is `O(n)` because we have to visit all the nodes.\n",
        "\n",
        "The space complexity is `O(1)` because we are swapping nodes in place"
      ]
    }
  ]
}