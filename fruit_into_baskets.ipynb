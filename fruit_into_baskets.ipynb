{
  "nbformat": 4,
  "nbformat_minor": 0,
  "metadata": {
    "colab": {
      "name": "fruit-into-baskets.ipynb",
      "provenance": [],
      "collapsed_sections": [],
      "authorship_tag": "ABX9TyNN/Dt4kW4wpBES9cRvRuRG",
      "include_colab_link": true
    },
    "kernelspec": {
      "name": "python3",
      "display_name": "Python 3"
    },
    "language_info": {
      "name": "python"
    }
  },
  "cells": [
    {
      "cell_type": "markdown",
      "metadata": {
        "id": "view-in-github",
        "colab_type": "text"
      },
      "source": [
        "<a href=\"https://colab.research.google.com/github/samoei/dsa/blob/main/fruit_into_baskets.ipynb\" target=\"_parent\"><img src=\"https://colab.research.google.com/assets/colab-badge.svg\" alt=\"Open In Colab\"/></a>"
      ]
    },
    {
      "cell_type": "markdown",
      "metadata": {
        "id": "CeeoH7eqkOnc"
      },
      "source": [
        "# 904. Fruit Into Baskets - Sliding Window Technique"
      ]
    },
    {
      "cell_type": "markdown",
      "metadata": {
        "id": "R_jN6shvnKcV"
      },
      "source": [
        "## Problem Statement"
      ]
    },
    {
      "cell_type": "markdown",
      "metadata": {
        "id": "yZCZFJHxkm6i"
      },
      "source": [
        "You are visiting a farm that has a single row of fruit trees arranged from left to right. The trees are represented by an integer array fruits where fruits[i] is the type of fruit the ith tree produces.\n",
        "\n",
        "You want to collect as much fruit as possible. However, the owner has some strict rules that you must follow:\n",
        "\n",
        "* You only have two baskets, and each basket can only hold a single type of fruit. There is no limit on the amount of fruit each basket can hold.\n",
        "\n",
        "* Starting from any tree of your choice, you must pick exactly one fruit from every tree (including the start tree) while moving to the right. The picked fruits must fit in one of your baskets.\n",
        "\n",
        "* Once you reach a tree with fruit that cannot fit in your baskets, you must stop.\n",
        "\n",
        "Given the integer array fruits, return the maximum number of fruits you can pick.\n",
        "\n",
        "  https://leetcode.com/problems/fruit-into-baskets/\n"
      ]
    },
    {
      "cell_type": "markdown",
      "metadata": {
        "id": "dZKYtBMNmCVc"
      },
      "source": [
        "## Solution"
      ]
    },
    {
      "cell_type": "markdown",
      "metadata": {
        "id": "KmDanOGU-diR"
      },
      "source": [
        "### 1. Understainding the problem by re-stating the problem in my own words. Identify the input & output formats."
      ]
    },
    {
      "cell_type": "markdown",
      "metadata": {
        "id": "D4V9rEX5mVjN"
      },
      "source": [
        "**Problem**\n",
        "\n",
        "> What is the length of longest subarray that contains up to two distinct integers?\n",
        "\n",
        "<br/>\n",
        "\n",
        "\n",
        "**Input**\n",
        "\n",
        "1. array of integers\n",
        "**Output**\n",
        "\n",
        "1. longest"
      ]
    },
    {
      "cell_type": "code",
      "metadata": {
        "id": "XYqZR73am5un"
      },
      "source": [
        "def max_fruits_collected(root):\n",
        "  pass"
      ],
      "execution_count": null,
      "outputs": []
    },
    {
      "cell_type": "markdown",
      "metadata": {
        "id": "u5OCjU7m-0My"
      },
      "source": [
        "### 2. Come up with some example inputs & outputs. Try to cover all edge cases."
      ]
    },
    {
      "cell_type": "markdown",
      "metadata": {
        "id": "SD2Z5pkRoEao"
      },
      "source": [
        "Our function should be able to handle any set of valid inputs we pass into it. Here's a list of some possible variations we might encounter:\n",
        "\n",
        "1. **initialise a dict `count` to keep track of the types of fruits collected, AKA unique integers in the array**\n",
        "2. **Initialise `i` to keep track of unique numbers update in the array**\n",
        "3. **We loop through the array adding the unique integers in the `count` dict**\n",
        "4. **We check if we have more than 2 keys in the dict and decrement the value of the initial keys as tracked by `i`**\n",
        "5. **If the value of the decremented integer is 0 we remove it from the dict**\n",
        "6. **We finally increment `i`**"
      ]
    },
    {
      "cell_type": "markdown",
      "metadata": {
        "id": "hL0hCIEwnRX8"
      },
      "source": [
        "### 3. Come up with a correct solution for the problem. State it in plain English."
      ]
    },
    {
      "cell_type": "markdown",
      "metadata": {
        "id": "TwM12Jp0nFJs"
      },
      "source": [
        "Solution 1: Using BFS to traverse the tree and swapping the left with right child nodes\n",
        "\n",
        "1. **initialise a dict `count` to keep track of the types of fruits collected, AKA unique integers in the array**\n",
        "2. **Initialise `i` to keep track of unique numbers update in the array**\n",
        "3. **We loop through the array adding the unique integers in the `count` dict**\n",
        "4. **We check if we have more than 2 keys in the dict and decrement the value of the initial keys as tracked by `i`**\n",
        "5. **If the value of the decremented integer is 0 we remove it from the dict**\n",
        "6. **We finally increment `i`**\n"
      ]
    },
    {
      "cell_type": "markdown",
      "metadata": {
        "id": "AJt6j52-niJr"
      },
      "source": [
        "### 4. Implement the solution and test it using example inputs. Fix bugs, if any.\n"
      ]
    },
    {
      "cell_type": "code",
      "metadata": {
        "id": "rb0D2xyanm6Z"
      },
      "source": [
        "def max_fruits_collected(tree):\n",
        "  count, i = {}, 0\n",
        "\n",
        "  for j, v in enumerate(tree):\n",
        "    count[v] = count.get(v, 0)+1\n",
        "\n",
        "    if len(count) > 2:\n",
        "      count[tree[i]] -= 1\n",
        "      if count[tree[i]] == 0: del count[tree[i]]\n",
        "      i+=1\n",
        "  return j - i+1\n",
        "\n"
      ],
      "execution_count": 5,
      "outputs": []
    },
    {
      "cell_type": "code",
      "metadata": {
        "colab": {
          "base_uri": "https://localhost:8080/"
        },
        "id": "auP4NDAc5Oxz",
        "outputId": "407944df-cc56-4aef-bfa5-aab26aaa9296"
      },
      "source": [
        "max_fruits_collected([4,1,1,1,3,1,7,5])"
      ],
      "execution_count": 7,
      "outputs": [
        {
          "output_type": "execute_result",
          "data": {
            "text/plain": [
              "5"
            ]
          },
          "metadata": {},
          "execution_count": 7
        }
      ]
    },
    {
      "cell_type": "markdown",
      "metadata": {
        "id": "5KdsqOQAn5J-"
      },
      "source": [
        "### 5. Analyze the algorithm's complexity and identify inefficiencies, if any.\n"
      ]
    },
    {
      "cell_type": "markdown",
      "metadata": {
        "id": "-YK5JoVwn9pg"
      },
      "source": [
        "The above code runtime complexity is `O(n)` because we have to visit all the nodes.\n",
        "\n",
        "The space complexity is also `O(1)` because there is no auxiliary space needed"
      ]
    },
    {
      "cell_type": "code",
      "metadata": {
        "id": "kspovmAZ6fgE"
      },
      "source": [
        ""
      ],
      "execution_count": null,
      "outputs": []
    }
  ]
}