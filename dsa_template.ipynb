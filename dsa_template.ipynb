{
  "nbformat": 4,
  "nbformat_minor": 0,
  "metadata": {
    "colab": {
      "name": "dsa-template.ipynb",
      "provenance": [],
      "authorship_tag": "ABX9TyNev8ZHZs+y/LFjsLlVu/wz",
      "include_colab_link": true
    },
    "kernelspec": {
      "name": "python3",
      "display_name": "Python 3"
    },
    "language_info": {
      "name": "python"
    }
  },
  "cells": [
    {
      "cell_type": "markdown",
      "metadata": {
        "id": "view-in-github",
        "colab_type": "text"
      },
      "source": [
        "<a href=\"https://colab.research.google.com/github/samoei/dsa/blob/main/dsa_template.ipynb\" target=\"_parent\"><img src=\"https://colab.research.google.com/assets/colab-badge.svg\" alt=\"Open In Colab\"/></a>"
      ]
    },
    {
      "cell_type": "markdown",
      "metadata": {
        "id": "CeeoH7eqkOnc"
      },
      "source": [
        "# Datastructures and Algorithms Problem Solving Template"
      ]
    },
    {
      "cell_type": "markdown",
      "metadata": {
        "id": "R_jN6shvnKcV"
      },
      "source": [
        "## Problem Statement"
      ]
    },
    {
      "cell_type": "markdown",
      "metadata": {
        "id": "yZCZFJHxkm6i"
      },
      "source": [
        "> Write a function that takes in a Binary Tree and inverts it. In other words,\n",
        "  the function should swap every left node in the tree for its corresponding\n",
        "  right node. \n",
        "  Each `BinaryTree` node has an integer `value`, a\n",
        "  `left` child node, and a `right` child node. Children\n",
        "  nodes can either be <span>BinaryTree</span> nodes themselves or\n",
        "  `None` / `null`.\n"
      ]
    },
    {
      "cell_type": "markdown",
      "metadata": {
        "id": "dZKYtBMNmCVc"
      },
      "source": [
        "## Solution"
      ]
    },
    {
      "cell_type": "markdown",
      "metadata": {
        "id": "KmDanOGU-diR"
      },
      "source": [
        "### 1. Understainding the problem by re-stating the problem in my own words. Identify the input & output formats."
      ]
    },
    {
      "cell_type": "markdown",
      "metadata": {
        "id": "D4V9rEX5mVjN"
      },
      "source": [
        "**Problem**\n",
        "\n",
        "> Swap the child nodes of a binary tree. Left child should be the new right child and vice *versa*\n",
        "\n",
        "<br/>\n",
        "\n",
        "\n",
        "**Input**\n",
        "\n",
        "1. root node of a binary tree\n",
        "**Output**\n",
        "\n",
        "1. an inverted binary tree\n",
        "italicised text\n",
        "Based on the above, we can now create a signature of our function:"
      ]
    },
    {
      "cell_type": "code",
      "metadata": {
        "id": "XYqZR73am5un"
      },
      "source": [
        "def invert_bst(root):\n",
        "  pass"
      ],
      "execution_count": 1,
      "outputs": []
    },
    {
      "cell_type": "markdown",
      "metadata": {
        "id": "u5OCjU7m-0My"
      },
      "source": [
        "### 2. Come up with some example inputs & outputs. Try to cover all edge cases."
      ]
    },
    {
      "cell_type": "markdown",
      "metadata": {
        "id": "SD2Z5pkRoEao"
      },
      "source": [
        "Our function should be able to handle any set of valid inputs we pass into it. Here's a list of some possible variations we might encounter:\n",
        "\n",
        "1. **tree with just the root node**\n",
        "2. **if the root left child not null but right child is null**\n",
        "3. **??**\n",
        "4. **??**\n",
        "5. **??**\n",
        "*italicised text*"
      ]
    },
    {
      "cell_type": "code",
      "metadata": {
        "id": "NQfcmhoMoOb3"
      },
      "source": [
        "def invert_bst(root):\n",
        "  if root is None:\n",
        "    return None"
      ],
      "execution_count": 3,
      "outputs": []
    },
    {
      "cell_type": "code",
      "metadata": {
        "id": "PMoK-NIq8PE4"
      },
      "source": [
        ""
      ],
      "execution_count": 3,
      "outputs": []
    },
    {
      "cell_type": "markdown",
      "metadata": {
        "id": "hL0hCIEwnRX8"
      },
      "source": [
        "### 3. Come up with a correct solution for the problem. State it in plain English."
      ]
    },
    {
      "cell_type": "markdown",
      "metadata": {
        "id": "TwM12Jp0nFJs"
      },
      "source": [
        "Our first goal should always be to come up with a correct solution to the problem, which may not necessarily be the most efficient solution. Come with a correct solution and explain it in simple words below:\n",
        "\n",
        "1. ???\n",
        "2. ???\n",
        "3. ???\n",
        "4. ???\n",
        "5. ???\n"
      ]
    },
    {
      "cell_type": "markdown",
      "metadata": {
        "id": "AJt6j52-niJr"
      },
      "source": [
        "### 4. Implement the solution and test it using example inputs. Fix bugs, if any.\n"
      ]
    },
    {
      "cell_type": "code",
      "metadata": {
        "id": "rb0D2xyanm6Z"
      },
      "source": [
        ""
      ],
      "execution_count": null,
      "outputs": []
    },
    {
      "cell_type": "code",
      "metadata": {
        "id": "uX3HZoSPnr76"
      },
      "source": [
        ""
      ],
      "execution_count": null,
      "outputs": []
    },
    {
      "cell_type": "code",
      "metadata": {
        "id": "JqLZ6in4nrr8"
      },
      "source": [
        ""
      ],
      "execution_count": null,
      "outputs": []
    },
    {
      "cell_type": "code",
      "metadata": {
        "id": "lmBGRvZcnrcK"
      },
      "source": [
        ""
      ],
      "execution_count": null,
      "outputs": []
    },
    {
      "cell_type": "markdown",
      "metadata": {
        "id": "5KdsqOQAn5J-"
      },
      "source": [
        "### 5. Analyze the algorithm's complexity and identify inefficiencies, if any.\n"
      ]
    },
    {
      "cell_type": "code",
      "metadata": {
        "id": "-YK5JoVwn9pg"
      },
      "source": [
        ""
      ],
      "execution_count": null,
      "outputs": []
    },
    {
      "cell_type": "code",
      "metadata": {
        "id": "vX1BYQmJoGnZ"
      },
      "source": [
        ""
      ],
      "execution_count": null,
      "outputs": []
    },
    {
      "cell_type": "code",
      "metadata": {
        "id": "I5yfTJ5DoKc6"
      },
      "source": [
        ""
      ],
      "execution_count": null,
      "outputs": []
    },
    {
      "cell_type": "markdown",
      "metadata": {
        "id": "es-4qDM0oHGR"
      },
      "source": [
        "### 6. Apply the right technique to overcome the inefficiency. Repeat steps 3 to 6\n"
      ]
    },
    {
      "cell_type": "code",
      "metadata": {
        "id": "ZbgEynm-oXB6"
      },
      "source": [
        ""
      ],
      "execution_count": null,
      "outputs": []
    },
    {
      "cell_type": "code",
      "metadata": {
        "id": "GbZjWpUYodOg"
      },
      "source": [
        ""
      ],
      "execution_count": null,
      "outputs": []
    },
    {
      "cell_type": "code",
      "metadata": {
        "id": "7hcrO9BVod1s"
      },
      "source": [
        ""
      ],
      "execution_count": null,
      "outputs": []
    },
    {
      "cell_type": "markdown",
      "metadata": {
        "id": "CQCsM_VSoeGB"
      },
      "source": [
        "### 7. Come up with a correct solution for the problem. State it in plain English.\n"
      ]
    },
    {
      "cell_type": "code",
      "metadata": {
        "id": "duMPzz_iojS1"
      },
      "source": [
        ""
      ],
      "execution_count": null,
      "outputs": []
    },
    {
      "cell_type": "code",
      "metadata": {
        "id": "VwDGRpmqokzJ"
      },
      "source": [
        ""
      ],
      "execution_count": null,
      "outputs": []
    },
    {
      "cell_type": "code",
      "metadata": {
        "id": "zpdkbYhSolJj"
      },
      "source": [
        ""
      ],
      "execution_count": null,
      "outputs": []
    },
    {
      "cell_type": "markdown",
      "metadata": {
        "id": "2npOFb5qolUg"
      },
      "source": [
        "### 8. Implement the solution and test it using example inputs. Fix bugs, if any."
      ]
    },
    {
      "cell_type": "code",
      "metadata": {
        "id": "o-RLOK4CopAb"
      },
      "source": [
        ""
      ],
      "execution_count": null,
      "outputs": []
    },
    {
      "cell_type": "code",
      "metadata": {
        "id": "i3sRBQfhopaz"
      },
      "source": [
        ""
      ],
      "execution_count": null,
      "outputs": []
    },
    {
      "cell_type": "code",
      "metadata": {
        "id": "a7ecbZK_opwG"
      },
      "source": [
        ""
      ],
      "execution_count": null,
      "outputs": []
    },
    {
      "cell_type": "markdown",
      "metadata": {
        "id": "suYufSWMoq27"
      },
      "source": [
        "### 9. Analyze the algorithm's complexity and identify inefficiencies, if any."
      ]
    },
    {
      "cell_type": "code",
      "metadata": {
        "id": "ZC9PWBFyouwQ"
      },
      "source": [
        ""
      ],
      "execution_count": null,
      "outputs": []
    },
    {
      "cell_type": "code",
      "metadata": {
        "id": "4yVy4ZHEowsm"
      },
      "source": [
        ""
      ],
      "execution_count": null,
      "outputs": []
    },
    {
      "cell_type": "markdown",
      "metadata": {
        "id": "mrXQpVHvovIE"
      },
      "source": [
        ""
      ]
    }
  ]
}